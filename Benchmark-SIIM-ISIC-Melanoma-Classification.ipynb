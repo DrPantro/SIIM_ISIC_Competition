{
 "cells": [
  {
   "cell_type": "code",
   "execution_count": 1,
   "metadata": {},
   "outputs": [
    {
     "data": {
      "text/html": [
       "        <script type=\"text/javascript\">\n",
       "        window.PlotlyConfig = {MathJaxConfig: 'local'};\n",
       "        if (window.MathJax) {MathJax.Hub.Config({SVG: {font: \"STIX-Web\"}});}\n",
       "        if (typeof require !== 'undefined') {\n",
       "        require.undef(\"plotly\");\n",
       "        requirejs.config({\n",
       "            paths: {\n",
       "                'plotly': ['https://cdn.plot.ly/plotly-latest.min']\n",
       "            }\n",
       "        });\n",
       "        require(['plotly'], function(Plotly) {\n",
       "            window._Plotly = Plotly;\n",
       "        });\n",
       "        }\n",
       "        </script>\n",
       "        "
      ]
     },
     "metadata": {},
     "output_type": "display_data"
    },
    {
     "data": {
      "text/html": [
       "<div>\n",
       "<style scoped>\n",
       "    .dataframe tbody tr th:only-of-type {\n",
       "        vertical-align: middle;\n",
       "    }\n",
       "\n",
       "    .dataframe tbody tr th {\n",
       "        vertical-align: top;\n",
       "    }\n",
       "\n",
       "    .dataframe thead th {\n",
       "        text-align: right;\n",
       "    }\n",
       "</style>\n",
       "<table border=\"1\" class=\"dataframe\">\n",
       "  <thead>\n",
       "    <tr style=\"text-align: right;\">\n",
       "      <th></th>\n",
       "      <th>image_name</th>\n",
       "      <th>patient_id</th>\n",
       "      <th>sex</th>\n",
       "      <th>age_approx</th>\n",
       "      <th>anatom_site_general_challenge</th>\n",
       "      <th>diagnosis</th>\n",
       "      <th>benign_malignant</th>\n",
       "      <th>target</th>\n",
       "    </tr>\n",
       "  </thead>\n",
       "  <tbody>\n",
       "    <tr>\n",
       "      <th>0</th>\n",
       "      <td>ISIC_2637011</td>\n",
       "      <td>IP_7279968</td>\n",
       "      <td>male</td>\n",
       "      <td>45.0</td>\n",
       "      <td>head/neck</td>\n",
       "      <td>unknown</td>\n",
       "      <td>benign</td>\n",
       "      <td>0</td>\n",
       "    </tr>\n",
       "    <tr>\n",
       "      <th>1</th>\n",
       "      <td>ISIC_0015719</td>\n",
       "      <td>IP_3075186</td>\n",
       "      <td>female</td>\n",
       "      <td>45.0</td>\n",
       "      <td>upper extremity</td>\n",
       "      <td>unknown</td>\n",
       "      <td>benign</td>\n",
       "      <td>0</td>\n",
       "    </tr>\n",
       "    <tr>\n",
       "      <th>2</th>\n",
       "      <td>ISIC_0052212</td>\n",
       "      <td>IP_2842074</td>\n",
       "      <td>female</td>\n",
       "      <td>50.0</td>\n",
       "      <td>lower extremity</td>\n",
       "      <td>nevus</td>\n",
       "      <td>benign</td>\n",
       "      <td>0</td>\n",
       "    </tr>\n",
       "  </tbody>\n",
       "</table>\n",
       "</div>"
      ],
      "text/plain": [
       "     image_name  patient_id     sex  age_approx anatom_site_general_challenge  \\\n",
       "0  ISIC_2637011  IP_7279968    male        45.0                     head/neck   \n",
       "1  ISIC_0015719  IP_3075186  female        45.0               upper extremity   \n",
       "2  ISIC_0052212  IP_2842074  female        50.0               lower extremity   \n",
       "\n",
       "  diagnosis benign_malignant  target  \n",
       "0   unknown           benign       0  \n",
       "1   unknown           benign       0  \n",
       "2     nevus           benign       0  "
      ]
     },
     "execution_count": 1,
     "metadata": {},
     "output_type": "execute_result"
    }
   ],
   "source": [
    "import pandas as pd\n",
    "import numpy as np\n",
    "import pylab as plt\n",
    "from IPython import display\n",
    "import seaborn as sns\n",
    "sns.set()\n",
    "import matplotlib\n",
    "from pylab import rcParams\n",
    "import itertools \n",
    "import time \n",
    "from random import seed\n",
    "from random import random\n",
    "from matplotlib import pyplot\n",
    "# \n",
    "from sklearn.model_selection import train_test_split, StratifiedKFold\n",
    "from sklearn.utils.class_weight import compute_class_weight\n",
    "from sklearn.metrics import roc_auc_score, auc\n",
    "#from skimage.io import imread\n",
    "from PIL import Image\n",
    "\n",
    "import plotly.offline as py\n",
    "py.init_notebook_mode(connected=True)\n",
    "import plotly.graph_objs as go\n",
    "from plotly.subplots import make_subplots\n",
    "\n",
    "#Reading data, calendar and sell_prices\n",
    "train = pd.read_csv('../data/train.csv')\n",
    "test = pd.read_csv('../data/test.csv')\n",
    "sample_submission = pd.read_csv('../data/sample_submission.csv')\n",
    "train.head(3)"
   ]
  },
  {
   "cell_type": "markdown",
   "metadata": {},
   "source": [
    "## Patient Id Counts"
   ]
  },
  {
   "cell_type": "markdown",
   "metadata": {},
   "source": [
    "### Extract gender per patient"
   ]
  },
  {
   "cell_type": "code",
   "execution_count": 2,
   "metadata": {},
   "outputs": [],
   "source": [
    "def create_patient_df(train,test):\n",
    "    #Create a series with patient_id as index and gender values for train and test\n",
    "    patient_gender_train = train.groupby(\"patient_id\").sex.unique().apply(lambda l: l[0])\n",
    "    patient_gender_test = test.groupby(\"patient_id\").sex.unique().apply(lambda l: l[0])\n",
    "    #Convert series into train_patients and test_patients dataframes \n",
    "    train_patients = pd.DataFrame(index=patient_gender_train.index.values, \n",
    "                                  data=patient_gender_train.values, columns=[\"sex\"])\n",
    "    test_patients = pd.DataFrame(index=patient_gender_test.index.values, \n",
    "                                 data=patient_gender_test.values, columns=[\"sex\"])\n",
    "    #Extract nun_images with proper groupby\n",
    "    train_patients[\"num_images\"] = train.groupby(\"patient_id\").size()\n",
    "    test_patients[\"num_images\"] = test.groupby(\"patient_id\").size()\n",
    "    #Extract age_span for patient with multiple images\n",
    "    train_patients[\"min_age\"] = train.groupby(\"patient_id\").age_approx.min()\n",
    "    train_patients[\"max_age\"] = train.groupby(\"patient_id\").age_approx.max()\n",
    "    test_patients[\"min_age\"] = test.groupby(\"patient_id\").age_approx.min()\n",
    "    test_patients[\"max_age\"] = test.groupby(\"patient_id\").age_approx.max()\n",
    "    train_patients[\"age_span\"] = train_patients[\"max_age\"] - train_patients[\"min_age\"]\n",
    "    test_patients[\"age_span\"] = test_patients[\"max_age\"] - test_patients[\"min_age\"]\n",
    "    #Extract benign_cases  and min and max aged for malignant\n",
    "    train_patients[\"benign_cases\"] = train.groupby([\"patient_id\", \"benign_malignant\"]).size().loc[:, \"benign\"]\n",
    "    train_patients[\"malignant_cases\"] = train.groupby([\"patient_id\", \"benign_malignant\"]).size().loc[:, \"malignant\"]\n",
    "    train_patients[\"min_age_malignant\"] = train.groupby([\"patient_id\", \"benign_malignant\"]).age_approx.min().loc[:, \"malignant\"]\n",
    "    train_patients[\"max_age_malignant\"] = train.groupby([\"patient_id\", \"benign_malignant\"]).age_approx.max().loc[:, \"malignant\"]\n",
    "    return train_patients, test_patients\n",
    "train_patients, test_patients = create_patient_df(train,test)"
   ]
  },
  {
   "cell_type": "code",
   "execution_count": 3,
   "metadata": {},
   "outputs": [
    {
     "name": "stdout",
     "output_type": "stream",
     "text": [
      "train_patients shape: (2056, 9)\n",
      "Malignant cases count train:\n",
      "False    1628\n",
      "True      428\n",
      "Name: malignant_cases, dtype: int64\n"
     ]
    },
    {
     "data": {
      "text/html": [
       "<div>\n",
       "<style scoped>\n",
       "    .dataframe tbody tr th:only-of-type {\n",
       "        vertical-align: middle;\n",
       "    }\n",
       "\n",
       "    .dataframe tbody tr th {\n",
       "        vertical-align: top;\n",
       "    }\n",
       "\n",
       "    .dataframe thead th {\n",
       "        text-align: right;\n",
       "    }\n",
       "</style>\n",
       "<table border=\"1\" class=\"dataframe\">\n",
       "  <thead>\n",
       "    <tr style=\"text-align: right;\">\n",
       "      <th></th>\n",
       "      <th>sex</th>\n",
       "      <th>num_images</th>\n",
       "      <th>min_age</th>\n",
       "      <th>max_age</th>\n",
       "      <th>age_span</th>\n",
       "      <th>benign_cases</th>\n",
       "      <th>malignant_cases</th>\n",
       "      <th>min_age_malignant</th>\n",
       "      <th>max_age_malignant</th>\n",
       "    </tr>\n",
       "  </thead>\n",
       "  <tbody>\n",
       "    <tr>\n",
       "      <th>IP_7373371</th>\n",
       "      <td>female</td>\n",
       "      <td>42</td>\n",
       "      <td>55.0</td>\n",
       "      <td>60.0</td>\n",
       "      <td>5.0</td>\n",
       "      <td>34.0</td>\n",
       "      <td>8.0</td>\n",
       "      <td>55.0</td>\n",
       "      <td>60.0</td>\n",
       "    </tr>\n",
       "    <tr>\n",
       "      <th>IP_9111321</th>\n",
       "      <td>male</td>\n",
       "      <td>13</td>\n",
       "      <td>60.0</td>\n",
       "      <td>60.0</td>\n",
       "      <td>0.0</td>\n",
       "      <td>7.0</td>\n",
       "      <td>6.0</td>\n",
       "      <td>60.0</td>\n",
       "      <td>60.0</td>\n",
       "    </tr>\n",
       "    <tr>\n",
       "      <th>IP_2412574</th>\n",
       "      <td>male</td>\n",
       "      <td>23</td>\n",
       "      <td>65.0</td>\n",
       "      <td>70.0</td>\n",
       "      <td>5.0</td>\n",
       "      <td>18.0</td>\n",
       "      <td>5.0</td>\n",
       "      <td>65.0</td>\n",
       "      <td>70.0</td>\n",
       "    </tr>\n",
       "    <tr>\n",
       "      <th>IP_3237442</th>\n",
       "      <td>male</td>\n",
       "      <td>8</td>\n",
       "      <td>65.0</td>\n",
       "      <td>85.0</td>\n",
       "      <td>20.0</td>\n",
       "      <td>3.0</td>\n",
       "      <td>5.0</td>\n",
       "      <td>65.0</td>\n",
       "      <td>80.0</td>\n",
       "    </tr>\n",
       "    <tr>\n",
       "      <th>IP_9037179</th>\n",
       "      <td>male</td>\n",
       "      <td>7</td>\n",
       "      <td>70.0</td>\n",
       "      <td>75.0</td>\n",
       "      <td>5.0</td>\n",
       "      <td>3.0</td>\n",
       "      <td>4.0</td>\n",
       "      <td>70.0</td>\n",
       "      <td>70.0</td>\n",
       "    </tr>\n",
       "  </tbody>\n",
       "</table>\n",
       "</div>"
      ],
      "text/plain": [
       "               sex  num_images  min_age  max_age  age_span  benign_cases  \\\n",
       "IP_7373371  female          42     55.0     60.0       5.0          34.0   \n",
       "IP_9111321    male          13     60.0     60.0       0.0           7.0   \n",
       "IP_2412574    male          23     65.0     70.0       5.0          18.0   \n",
       "IP_3237442    male           8     65.0     85.0      20.0           3.0   \n",
       "IP_9037179    male           7     70.0     75.0       5.0           3.0   \n",
       "\n",
       "            malignant_cases  min_age_malignant  max_age_malignant  \n",
       "IP_7373371              8.0               55.0               60.0  \n",
       "IP_9111321              6.0               60.0               60.0  \n",
       "IP_2412574              5.0               65.0               70.0  \n",
       "IP_3237442              5.0               65.0               80.0  \n",
       "IP_9037179              4.0               70.0               70.0  "
      ]
     },
     "execution_count": 3,
     "metadata": {},
     "output_type": "execute_result"
    }
   ],
   "source": [
    "print(\"train_patients shape:\",train_patients.shape)\n",
    "print('Malignant cases count train:')\n",
    "print(train_patients.malignant_cases.notnull().value_counts())\n",
    "train_patients.sort_values(by=\"malignant_cases\", ascending=False).head()"
   ]
  },
  {
   "cell_type": "markdown",
   "metadata": {},
   "source": [
    "### Categorical variables"
   ]
  },
  {
   "cell_type": "markdown",
   "metadata": {},
   "source": [
    "### Preprocess categorical variables \n",
    "The `anatom_site_general_challenge` in the train set has a lot of  NaNs, we will repalce them with the `.mode()`. For the `sex` category we only have a small number of NaNs and only two categories, for that reason we will replace it with the mode. Is this the best approach ??"
   ]
  },
  {
   "cell_type": "code",
   "execution_count": 261,
   "metadata": {},
   "outputs": [
    {
     "data": {
      "text/html": [
       "<div>\n",
       "<style scoped>\n",
       "    .dataframe tbody tr th:only-of-type {\n",
       "        vertical-align: middle;\n",
       "    }\n",
       "\n",
       "    .dataframe tbody tr th {\n",
       "        vertical-align: top;\n",
       "    }\n",
       "\n",
       "    .dataframe thead th {\n",
       "        text-align: right;\n",
       "    }\n",
       "</style>\n",
       "<table border=\"1\" class=\"dataframe\">\n",
       "  <thead>\n",
       "    <tr style=\"text-align: right;\">\n",
       "      <th></th>\n",
       "      <th>patient_id</th>\n",
       "      <th>sex</th>\n",
       "      <th>age_approx</th>\n",
       "      <th>anatom_site_general_challenge</th>\n",
       "      <th>num_images</th>\n",
       "      <th>min_age</th>\n",
       "      <th>max_age</th>\n",
       "      <th>age_span</th>\n",
       "    </tr>\n",
       "  </thead>\n",
       "  <tbody>\n",
       "    <tr>\n",
       "      <th>22826</th>\n",
       "      <td>IP_7121757</td>\n",
       "      <td>female</td>\n",
       "      <td>35.0</td>\n",
       "      <td>torso</td>\n",
       "      <td>54</td>\n",
       "      <td>35.0</td>\n",
       "      <td>35.0</td>\n",
       "      <td>0.0</td>\n",
       "    </tr>\n",
       "  </tbody>\n",
       "</table>\n",
       "</div>"
      ],
      "text/plain": [
       "       patient_id     sex  age_approx anatom_site_general_challenge  \\\n",
       "22826  IP_7121757  female        35.0                         torso   \n",
       "\n",
       "       num_images  min_age  max_age  age_span  \n",
       "22826          54     35.0     35.0       0.0  "
      ]
     },
     "execution_count": 261,
     "metadata": {},
     "output_type": "execute_result"
    }
   ],
   "source": [
    "from sklearn import preprocessing\n",
    "from sklearn.impute import SimpleImputer\n",
    "\n",
    "from sklearn.model_selection import train_test_split\n",
    "# target\n",
    "cols_to_drop = ['image_name','diagnosis', 'benign_malignant','target']\n",
    "y = train.target\n",
    "X = train.drop(cols_to_drop, axis=1)\n",
    "\n",
    "#Missing values Categorcial values\n",
    "# Fill NaN with Unknown on anatom_site_general_challenge\n",
    "mode1 = X['anatom_site_general_challenge'].mode()[0]\n",
    "X['anatom_site_general_challenge'].fillna('Unknown', inplace=True)\n",
    "# Fill NaN with mode on 'sex'\n",
    "mode = X['sex'].mode()[0]\n",
    "X['sex'].fillna('Unknown', inplace=True)\n",
    "\n",
    "#Add patient df to train set\n",
    "train_patients_cols_add=[\"num_images\",\"min_age\",\"max_age\",\"age_span\"]\n",
    "X=X.set_index('patient_id').join(train_patients[train_patients_cols_add]).reset_index()\n",
    "X = X.rename(columns={'index': 'patient_id'})\n",
    "#Add patient test set\n",
    "X_test=test.set_index('patient_id').join(test_patients[train_patients_cols_add]).reset_index()\n",
    "X_test = X_test.rename(columns={'index': 'patient_id'})\n",
    "\n",
    "\n",
    "# Divide data into training and validation subsets\n",
    "X_train, X_valid, y_train, y_valid = train_test_split(X, y, train_size=0.8, test_size=0.2,\n",
    "                                                      random_state=42)\n",
    "# All categorical columns\n",
    "object_cols = ['patient_id', 'sex', 'anatom_site_general_challenge']\n",
    "\n",
    "# Imputation Numerical features \n",
    "# Get names of columns with missing values\n",
    "cols_with_missing = ['age_approx', 'min_age','max_age','age_span']\n",
    "my_imputer = SimpleImputer()\n",
    "imputed_X_train = pd.DataFrame(my_imputer.fit_transform(X_train[cols_with_missing]), index=X_train.index)\n",
    "imputed_X_valid = pd.DataFrame(my_imputer.transform(X_valid[cols_with_missing]), index=X_valid.index)\n",
    "\n",
    "# Imputation removed column names; put them back\n",
    "imputed_X_train.columns = X_train[cols_with_missing].columns\n",
    "imputed_X_valid.columns = X_valid[cols_with_missing].columns\n",
    "\n",
    "\n",
    "# Label encode\n",
    "# Columns that can be safely label encoded and Problematic columns\n",
    "label_cols = ['sex', 'anatom_site_general_challenge']\n",
    "not_label_cols = ['patient_id', 'age_approx', 'min_age','max_age','age_span','num_images']\n",
    "# Drop categorical columns that will not be encoded\n",
    "label_X_train = X_train.drop(not_label_cols, axis=1)\n",
    "label_X_valid = X_valid.drop(not_label_cols, axis=1)\n",
    "# Apply label encoder to bad_label_cols \n",
    "label_encoder = preprocessing.LabelEncoder()\n",
    "for col in label_cols:\n",
    "    label_X_train[col] = label_encoder.fit_transform(label_X_train[col])\n",
    "    label_X_valid[col] = label_encoder.transform(label_X_valid[col])\n",
    "    \n",
    "X_train.head(1)"
   ]
  },
  {
   "cell_type": "code",
   "execution_count": 148,
   "metadata": {},
   "outputs": [
    {
     "data": {
      "text/html": [
       "<div>\n",
       "<style scoped>\n",
       "    .dataframe tbody tr th:only-of-type {\n",
       "        vertical-align: middle;\n",
       "    }\n",
       "\n",
       "    .dataframe tbody tr th {\n",
       "        vertical-align: top;\n",
       "    }\n",
       "\n",
       "    .dataframe thead th {\n",
       "        text-align: right;\n",
       "    }\n",
       "</style>\n",
       "<table border=\"1\" class=\"dataframe\">\n",
       "  <thead>\n",
       "    <tr style=\"text-align: right;\">\n",
       "      <th></th>\n",
       "      <th>age_approx</th>\n",
       "      <th>min_age</th>\n",
       "      <th>max_age</th>\n",
       "      <th>age_span</th>\n",
       "    </tr>\n",
       "  </thead>\n",
       "  <tbody>\n",
       "    <tr>\n",
       "      <th>22826</th>\n",
       "      <td>35.0</td>\n",
       "      <td>35.0</td>\n",
       "      <td>35.0</td>\n",
       "      <td>0.0</td>\n",
       "    </tr>\n",
       "  </tbody>\n",
       "</table>\n",
       "</div>"
      ],
      "text/plain": [
       "       age_approx  min_age  max_age  age_span\n",
       "22826        35.0     35.0     35.0       0.0"
      ]
     },
     "execution_count": 148,
     "metadata": {},
     "output_type": "execute_result"
    }
   ],
   "source": [
    "imputed_X_train.head(1)"
   ]
  },
  {
   "cell_type": "code",
   "execution_count": 146,
   "metadata": {},
   "outputs": [
    {
     "data": {
      "text/html": [
       "<div>\n",
       "<style scoped>\n",
       "    .dataframe tbody tr th:only-of-type {\n",
       "        vertical-align: middle;\n",
       "    }\n",
       "\n",
       "    .dataframe tbody tr th {\n",
       "        vertical-align: top;\n",
       "    }\n",
       "\n",
       "    .dataframe thead th {\n",
       "        text-align: right;\n",
       "    }\n",
       "</style>\n",
       "<table border=\"1\" class=\"dataframe\">\n",
       "  <thead>\n",
       "    <tr style=\"text-align: right;\">\n",
       "      <th></th>\n",
       "      <th>sex</th>\n",
       "      <th>anatom_site_general_challenge</th>\n",
       "    </tr>\n",
       "  </thead>\n",
       "  <tbody>\n",
       "    <tr>\n",
       "      <th>22826</th>\n",
       "      <td>0</td>\n",
       "      <td>4</td>\n",
       "    </tr>\n",
       "  </tbody>\n",
       "</table>\n",
       "</div>"
      ],
      "text/plain": [
       "       sex  anatom_site_general_challenge\n",
       "22826    0                              4"
      ]
     },
     "execution_count": 146,
     "metadata": {},
     "output_type": "execute_result"
    }
   ],
   "source": [
    "label_X_train.head(1)"
   ]
  },
  {
   "cell_type": "markdown",
   "metadata": {},
   "source": [
    "# ToDo\n",
    "1. Try OneHot\n",
    "2. Feature Importance \n",
    "3. Pipelines\n",
    "4. Prepare to join other data\n",
    "4. Put into functions"
   ]
  },
  {
   "cell_type": "markdown",
   "metadata": {},
   "source": [
    "### 1) Add interaction features\n",
    "\n",
    "Add interaction features for each pair of categorical features (sex, anatom_site_general_challenge ). Iterate through the pairs of features is with `itertools.combinations`. For each new column, join the values as strings with an underscore, so 13 and 47 would become `\"13_47\"`. Label encode the values."
   ]
  },
  {
   "cell_type": "code",
   "execution_count": 317,
   "metadata": {},
   "outputs": [
    {
     "data": {
      "text/html": [
       "<div>\n",
       "<style scoped>\n",
       "    .dataframe tbody tr th:only-of-type {\n",
       "        vertical-align: middle;\n",
       "    }\n",
       "\n",
       "    .dataframe tbody tr th {\n",
       "        vertical-align: top;\n",
       "    }\n",
       "\n",
       "    .dataframe thead th {\n",
       "        text-align: right;\n",
       "    }\n",
       "</style>\n",
       "<table border=\"1\" class=\"dataframe\">\n",
       "  <thead>\n",
       "    <tr style=\"text-align: right;\">\n",
       "      <th></th>\n",
       "      <th>sex_anatom_site_general_challenge</th>\n",
       "    </tr>\n",
       "  </thead>\n",
       "  <tbody>\n",
       "    <tr>\n",
       "      <th>22826</th>\n",
       "      <td>9</td>\n",
       "    </tr>\n",
       "  </tbody>\n",
       "</table>\n",
       "</div>"
      ],
      "text/plain": [
       "       sex_anatom_site_general_challenge\n",
       "22826                                  9"
      ]
     },
     "execution_count": 317,
     "metadata": {},
     "output_type": "execute_result"
    }
   ],
   "source": [
    "import itertools\n",
    "\n",
    "cat_features = ['sex', 'anatom_site_general_challenge']\n",
    "def create_interactions(train, valid, cat_features): \n",
    "    interactions_train = pd.DataFrame(index=train.index)\n",
    "    interactions_valid = pd.DataFrame(index=valid.index)\n",
    "    # Iterate through each pair of features, combine them into interaction features\n",
    "    encoder = preprocessing.LabelEncoder()\n",
    "    for col1, col2 in itertools.combinations(cat_features,2):\n",
    "        new_col = col1 +'_'+ col2 \n",
    "        new_vals = train[col1].map(str) + '_' + train[col2].map(str)\n",
    "        interactions_train[new_col] = encoder.fit_transform(new_vals)\n",
    "        new_vals = valid[col1].map(str) + '_' + valid[col2].map(str)\n",
    "        interactions_valid[new_col] = encoder.transform(new_vals)\n",
    "    return interactions_train, interactions_valid\n",
    "interactions_train, interactions_valid = create_interactions(X_train,X_valid, cat_features) \n",
    "interactions_train.head(1)"
   ]
  },
  {
   "cell_type": "code",
   "execution_count": 150,
   "metadata": {},
   "outputs": [
    {
     "data": {
      "text/html": [
       "<div>\n",
       "<style scoped>\n",
       "    .dataframe tbody tr th:only-of-type {\n",
       "        vertical-align: middle;\n",
       "    }\n",
       "\n",
       "    .dataframe tbody tr th {\n",
       "        vertical-align: top;\n",
       "    }\n",
       "\n",
       "    .dataframe thead th {\n",
       "        text-align: right;\n",
       "    }\n",
       "</style>\n",
       "<table border=\"1\" class=\"dataframe\">\n",
       "  <thead>\n",
       "    <tr style=\"text-align: right;\">\n",
       "      <th></th>\n",
       "      <th>sex_anatom_site_general_challenge</th>\n",
       "    </tr>\n",
       "  </thead>\n",
       "  <tbody>\n",
       "    <tr>\n",
       "      <th>8231</th>\n",
       "      <td>4</td>\n",
       "    </tr>\n",
       "  </tbody>\n",
       "</table>\n",
       "</div>"
      ],
      "text/plain": [
       "      sex_anatom_site_general_challenge\n",
       "8231                                  4"
      ]
     },
     "execution_count": 150,
     "metadata": {},
     "output_type": "execute_result"
    }
   ],
   "source": [
    "interactions_valid.head(1)"
   ]
  },
  {
   "cell_type": "markdown",
   "metadata": {},
   "source": [
    "## Generate Baseline data\n",
    "### Random Forest model\n",
    "#### Define AUC metric"
   ]
  },
  {
   "cell_type": "code",
   "execution_count": 325,
   "metadata": {},
   "outputs": [],
   "source": [
    "from sklearn.ensemble import RandomForestClassifier\n",
    "from sklearn import metrics\n",
    "# Function for comparing different approaches\n",
    "def score_dataset_randomForest(X_train, X_valid, y_train, y_valid):\n",
    "    model = RandomForestClassifier(n_estimators=10, random_state=42)\n",
    "    model.fit(X_train, y_train)\n",
    "    preds = model.predict(X_valid)\n",
    "    fpr, tpr, _ = metrics.roc_curve(y_valid, preds, pos_label=None)\n",
    "    plt.plot(fpr,tpr)\n",
    "    plt.plot(fpr,fpr)\n",
    "    plt.xlabel('false positives rate')\n",
    "    plt.ylabel('true positives rate')\n",
    "    return metrics.roc_auc_score(y_valid, preds)"
   ]
  },
  {
   "cell_type": "markdown",
   "metadata": {},
   "source": [
    "1. Try all features"
   ]
  },
  {
   "cell_type": "code",
   "execution_count": 326,
   "metadata": {},
   "outputs": [
    {
     "name": "stdout",
     "output_type": "stream",
     "text": [
      "AUC from Approach 2 (Imputation):\n",
      "0.5032795967626331\n"
     ]
    },
    {
     "data": {
      "text/html": [
       "<div>\n",
       "<style scoped>\n",
       "    .dataframe tbody tr th:only-of-type {\n",
       "        vertical-align: middle;\n",
       "    }\n",
       "\n",
       "    .dataframe tbody tr th {\n",
       "        vertical-align: top;\n",
       "    }\n",
       "\n",
       "    .dataframe thead th {\n",
       "        text-align: right;\n",
       "    }\n",
       "</style>\n",
       "<table border=\"1\" class=\"dataframe\">\n",
       "  <thead>\n",
       "    <tr style=\"text-align: right;\">\n",
       "      <th></th>\n",
       "      <th>num_images</th>\n",
       "      <th>age_approx</th>\n",
       "      <th>min_age</th>\n",
       "      <th>max_age</th>\n",
       "      <th>age_span</th>\n",
       "      <th>sex</th>\n",
       "      <th>anatom_site_general_challenge</th>\n",
       "      <th>sex_anatom_site_general_challenge</th>\n",
       "    </tr>\n",
       "  </thead>\n",
       "  <tbody>\n",
       "    <tr>\n",
       "      <th>22826</th>\n",
       "      <td>54</td>\n",
       "      <td>35.0</td>\n",
       "      <td>35.0</td>\n",
       "      <td>35.0</td>\n",
       "      <td>0.0</td>\n",
       "      <td>1</td>\n",
       "      <td>5</td>\n",
       "      <td>9</td>\n",
       "    </tr>\n",
       "    <tr>\n",
       "      <th>20292</th>\n",
       "      <td>30</td>\n",
       "      <td>35.0</td>\n",
       "      <td>30.0</td>\n",
       "      <td>35.0</td>\n",
       "      <td>5.0</td>\n",
       "      <td>2</td>\n",
       "      <td>2</td>\n",
       "      <td>13</td>\n",
       "    </tr>\n",
       "    <tr>\n",
       "      <th>29431</th>\n",
       "      <td>26</td>\n",
       "      <td>45.0</td>\n",
       "      <td>45.0</td>\n",
       "      <td>45.0</td>\n",
       "      <td>0.0</td>\n",
       "      <td>2</td>\n",
       "      <td>1</td>\n",
       "      <td>12</td>\n",
       "    </tr>\n",
       "    <tr>\n",
       "      <th>15395</th>\n",
       "      <td>52</td>\n",
       "      <td>30.0</td>\n",
       "      <td>30.0</td>\n",
       "      <td>30.0</td>\n",
       "      <td>0.0</td>\n",
       "      <td>1</td>\n",
       "      <td>5</td>\n",
       "      <td>9</td>\n",
       "    </tr>\n",
       "    <tr>\n",
       "      <th>2333</th>\n",
       "      <td>58</td>\n",
       "      <td>80.0</td>\n",
       "      <td>80.0</td>\n",
       "      <td>80.0</td>\n",
       "      <td>0.0</td>\n",
       "      <td>2</td>\n",
       "      <td>5</td>\n",
       "      <td>16</td>\n",
       "    </tr>\n",
       "  </tbody>\n",
       "</table>\n",
       "</div>"
      ],
      "text/plain": [
       "       num_images  age_approx  min_age  max_age  age_span  sex  \\\n",
       "22826          54        35.0     35.0     35.0       0.0    1   \n",
       "20292          30        35.0     30.0     35.0       5.0    2   \n",
       "29431          26        45.0     45.0     45.0       0.0    2   \n",
       "15395          52        30.0     30.0     30.0       0.0    1   \n",
       "2333           58        80.0     80.0     80.0       0.0    2   \n",
       "\n",
       "       anatom_site_general_challenge  sex_anatom_site_general_challenge  \n",
       "22826                              5                                  9  \n",
       "20292                              2                                 13  \n",
       "29431                              1                                 12  \n",
       "15395                              5                                  9  \n",
       "2333                               5                                 16  "
      ]
     },
     "execution_count": 326,
     "metadata": {},
     "output_type": "execute_result"
    },
    {
     "data": {
      "image/png": "[encoded data removed]",
      "text/plain": [
       "<Figure size 432x288 with 1 Axes>"
      ]
     },
     "metadata": {},
     "output_type": "display_data"
    }
   ],
   "source": [
    "cols_to_keep = ['num_images']\n",
    "#add imputed\n",
    "baseline_train = X_train[cols_to_keep].join(imputed_X_train)\n",
    "baseline_valid = X_valid[cols_to_keep].join(imputed_X_valid)\n",
    "#add categorical label\n",
    "baseline_train = baseline_train.join(label_X_train)\n",
    "baseline_valid = baseline_valid.join(label_X_valid)\n",
    "#add interactions\n",
    "baseline_train = baseline_train.join(interactions_train)\n",
    "baseline_valid = baseline_valid.join(interactions_valid)\n",
    "\n",
    "#baseline_train.drop(columns= cols_to_keep, inplace=True)\n",
    "#baseline_valid.drop(columns=cols_to_keep, inplace=True)\n",
    "print(\"AUC from Approach 2 (Imputation):\")\n",
    "cols_to_drop = [\"min_age\",\"max_age\",\"sex\"] \n",
    "print(score_dataset_randomForest(baseline_train.drop(columns=cols_to_drop), baseline_valid.drop(columns=cols_to_drop), y_train, y_valid))\n",
    "\n",
    "baseline_train.head()"
   ]
  },
  {
   "cell_type": "markdown",
   "metadata": {},
   "source": [
    "2. Try only imputed"
   ]
  },
  {
   "cell_type": "code",
   "execution_count": 322,
   "metadata": {},
   "outputs": [
    {
     "name": "stdout",
     "output_type": "stream",
     "text": [
      "AUC from Approach 2 (Imputation):\n",
      "0.5\n"
     ]
    },
    {
     "data": {
      "text/html": [
       "<div>\n",
       "<style scoped>\n",
       "    .dataframe tbody tr th:only-of-type {\n",
       "        vertical-align: middle;\n",
       "    }\n",
       "\n",
       "    .dataframe tbody tr th {\n",
       "        vertical-align: top;\n",
       "    }\n",
       "\n",
       "    .dataframe thead th {\n",
       "        text-align: right;\n",
       "    }\n",
       "</style>\n",
       "<table border=\"1\" class=\"dataframe\">\n",
       "  <thead>\n",
       "    <tr style=\"text-align: right;\">\n",
       "      <th></th>\n",
       "      <th>age_approx</th>\n",
       "      <th>min_age</th>\n",
       "      <th>max_age</th>\n",
       "      <th>age_span</th>\n",
       "    </tr>\n",
       "  </thead>\n",
       "  <tbody>\n",
       "    <tr>\n",
       "      <th>22826</th>\n",
       "      <td>35.0</td>\n",
       "      <td>35.0</td>\n",
       "      <td>35.0</td>\n",
       "      <td>0.0</td>\n",
       "    </tr>\n",
       "    <tr>\n",
       "      <th>20292</th>\n",
       "      <td>35.0</td>\n",
       "      <td>30.0</td>\n",
       "      <td>35.0</td>\n",
       "      <td>5.0</td>\n",
       "    </tr>\n",
       "    <tr>\n",
       "      <th>29431</th>\n",
       "      <td>45.0</td>\n",
       "      <td>45.0</td>\n",
       "      <td>45.0</td>\n",
       "      <td>0.0</td>\n",
       "    </tr>\n",
       "    <tr>\n",
       "      <th>15395</th>\n",
       "      <td>30.0</td>\n",
       "      <td>30.0</td>\n",
       "      <td>30.0</td>\n",
       "      <td>0.0</td>\n",
       "    </tr>\n",
       "    <tr>\n",
       "      <th>2333</th>\n",
       "      <td>80.0</td>\n",
       "      <td>80.0</td>\n",
       "      <td>80.0</td>\n",
       "      <td>0.0</td>\n",
       "    </tr>\n",
       "  </tbody>\n",
       "</table>\n",
       "</div>"
      ],
      "text/plain": [
       "       age_approx  min_age  max_age  age_span\n",
       "22826        35.0     35.0     35.0       0.0\n",
       "20292        35.0     30.0     35.0       5.0\n",
       "29431        45.0     45.0     45.0       0.0\n",
       "15395        30.0     30.0     30.0       0.0\n",
       "2333         80.0     80.0     80.0       0.0"
      ]
     },
     "execution_count": 322,
     "metadata": {},
     "output_type": "execute_result"
    },
    {
     "data": {
      "image/png": "[encoded data removed]",
      "text/plain": [
       "<Figure size 432x288 with 1 Axes>"
      ]
     },
     "metadata": {},
     "output_type": "display_data"
    }
   ],
   "source": [
    "print(\"AUC from Approach 2 (Imputation):\")\n",
    "print(score_dataset_randomForest(imputed_X_train, imputed_X_valid, y_train, y_valid))\n",
    "imputed_X_train.head()"
   ]
  },
  {
   "cell_type": "markdown",
   "metadata": {},
   "source": [
    "2. Try only label columns"
   ]
  },
  {
   "cell_type": "code",
   "execution_count": 302,
   "metadata": {},
   "outputs": [
    {
     "name": "stdout",
     "output_type": "stream",
     "text": [
      "MAE from Approach 2 (Imputation):\n",
      "0.5\n"
     ]
    },
    {
     "data": {
      "text/html": [
       "<div>\n",
       "<style scoped>\n",
       "    .dataframe tbody tr th:only-of-type {\n",
       "        vertical-align: middle;\n",
       "    }\n",
       "\n",
       "    .dataframe tbody tr th {\n",
       "        vertical-align: top;\n",
       "    }\n",
       "\n",
       "    .dataframe thead th {\n",
       "        text-align: right;\n",
       "    }\n",
       "</style>\n",
       "<table border=\"1\" class=\"dataframe\">\n",
       "  <thead>\n",
       "    <tr style=\"text-align: right;\">\n",
       "      <th></th>\n",
       "      <th>sex</th>\n",
       "      <th>anatom_site_general_challenge</th>\n",
       "    </tr>\n",
       "  </thead>\n",
       "  <tbody>\n",
       "    <tr>\n",
       "      <th>22826</th>\n",
       "      <td>1</td>\n",
       "      <td>5</td>\n",
       "    </tr>\n",
       "    <tr>\n",
       "      <th>20292</th>\n",
       "      <td>2</td>\n",
       "      <td>2</td>\n",
       "    </tr>\n",
       "    <tr>\n",
       "      <th>29431</th>\n",
       "      <td>2</td>\n",
       "      <td>1</td>\n",
       "    </tr>\n",
       "    <tr>\n",
       "      <th>15395</th>\n",
       "      <td>1</td>\n",
       "      <td>5</td>\n",
       "    </tr>\n",
       "    <tr>\n",
       "      <th>2333</th>\n",
       "      <td>2</td>\n",
       "      <td>5</td>\n",
       "    </tr>\n",
       "  </tbody>\n",
       "</table>\n",
       "</div>"
      ],
      "text/plain": [
       "       sex  anatom_site_general_challenge\n",
       "22826    1                              5\n",
       "20292    2                              2\n",
       "29431    2                              1\n",
       "15395    1                              5\n",
       "2333     2                              5"
      ]
     },
     "execution_count": 302,
     "metadata": {},
     "output_type": "execute_result"
    },
    {
     "data": {
      "image/png": "[encoded data removed]",
      "text/plain": [
       "<Figure size 432x288 with 1 Axes>"
      ]
     },
     "metadata": {},
     "output_type": "display_data"
    }
   ],
   "source": [
    "print(\"MAE from Approach 2 (Imputation):\")\n",
    "print(score_dataset_randomForest(label_X_train, label_X_valid, y_train, y_valid))\n",
    "label_X_train.head()"
   ]
  },
  {
   "cell_type": "markdown",
   "metadata": {},
   "source": [
    "### Light Gradient Boosted Machine (lightGBM)"
   ]
  },
  {
   "cell_type": "code",
   "execution_count": 268,
   "metadata": {},
   "outputs": [
    {
     "name": "stdout",
     "output_type": "stream",
     "text": [
      "Baseline model score\n",
      "Training model. Hold on a minute to see the validation score\n",
      "Validation AUC score: 0.5443775481608042\n",
      "feature_importance: [23 12 13  8  7]\n"
     ]
    },
    {
     "data": {
      "text/html": [
       "<div>\n",
       "<style scoped>\n",
       "    .dataframe tbody tr th:only-of-type {\n",
       "        vertical-align: middle;\n",
       "    }\n",
       "\n",
       "    .dataframe tbody tr th {\n",
       "        vertical-align: top;\n",
       "    }\n",
       "\n",
       "    .dataframe thead th {\n",
       "        text-align: right;\n",
       "    }\n",
       "</style>\n",
       "<table border=\"1\" class=\"dataframe\">\n",
       "  <thead>\n",
       "    <tr style=\"text-align: right;\">\n",
       "      <th></th>\n",
       "      <th>num_images</th>\n",
       "      <th>age_approx</th>\n",
       "      <th>min_age</th>\n",
       "      <th>max_age</th>\n",
       "      <th>anatom_site_general_challenge</th>\n",
       "    </tr>\n",
       "  </thead>\n",
       "  <tbody>\n",
       "    <tr>\n",
       "      <th>22826</th>\n",
       "      <td>54</td>\n",
       "      <td>35.0</td>\n",
       "      <td>35.0</td>\n",
       "      <td>35.0</td>\n",
       "      <td>5</td>\n",
       "    </tr>\n",
       "    <tr>\n",
       "      <th>20292</th>\n",
       "      <td>30</td>\n",
       "      <td>35.0</td>\n",
       "      <td>30.0</td>\n",
       "      <td>35.0</td>\n",
       "      <td>2</td>\n",
       "    </tr>\n",
       "    <tr>\n",
       "      <th>29431</th>\n",
       "      <td>26</td>\n",
       "      <td>45.0</td>\n",
       "      <td>45.0</td>\n",
       "      <td>45.0</td>\n",
       "      <td>1</td>\n",
       "    </tr>\n",
       "  </tbody>\n",
       "</table>\n",
       "</div>"
      ],
      "text/plain": [
       "       num_images  age_approx  min_age  max_age  anatom_site_general_challenge\n",
       "22826          54        35.0     35.0     35.0                              5\n",
       "20292          30        35.0     30.0     35.0                              2\n",
       "29431          26        45.0     45.0     45.0                              1"
      ]
     },
     "execution_count": 268,
     "metadata": {},
     "output_type": "execute_result"
    },
    {
     "data": {
      "image/png": "[encoded data removed]",
      "text/plain": [
       "<Figure size 432x288 with 1 Axes>"
      ]
     },
     "metadata": {},
     "output_type": "display_data"
    }
   ],
   "source": [
    "import lightgbm as lgb\n",
    "\n",
    "def train_model(train, valid, y_train, y_valid, test=None, feature_cols=None):\n",
    "    if feature_cols is None:\n",
    "        cols_to_drop = [\"num_images\", \"min_age\",\"max_age\", \"age_span\"]\n",
    "        feature_cols = train.columns.drop(cols_to_drop)\n",
    "    dtrain = lgb.Dataset(train[feature_cols], label=y_train)\n",
    "    dvalid = lgb.Dataset(valid[feature_cols], label=y_valid)\n",
    "    \n",
    "    param = {'num_leaves': 64, 'objective': 'binary', 'metric': 'auc', 'seed': 42}\n",
    "    num_round = 20000\n",
    "    print(\"Training model. Hold on a minute to see the validation score\")\n",
    "    bst = lgb.train(param, dtrain, num_round, valid_sets=[dvalid], \n",
    "                    early_stopping_rounds=40, verbose_eval=False)\n",
    "    \n",
    "    valid_pred = bst.predict(valid[feature_cols])\n",
    "    valid_score = metrics.roc_auc_score(y_valid, valid_pred)\n",
    "    print(f\"Validation AUC score: {valid_score}\")\n",
    "    fpr, tpr, _ = metrics.roc_curve(y_valid, valid_pred, pos_label=1)\n",
    "    plt.plot(fpr,tpr)\n",
    "    plt.plot(fpr,fpr)\n",
    "    plt.xlabel('false positives rate')\n",
    "    plt.ylabel('true positives rate')\n",
    "    if test is not None: \n",
    "        test_pred = bst.predict(test[feature_cols])\n",
    "        test_score = metrics.roc_auc_score(test['is_attributed'], test_pred)\n",
    "        return bst, valid_score, test_score\n",
    "    else:\n",
    "        return bst, valid_score\n",
    "\n",
    "print(\"Baseline model score\")\n",
    "feature_cols = [\"num_images\",\"age_approx\", \"min_age\", \n",
    "                \"max_age\",  \"anatom_site_general_challenge\"]\n",
    "bst, _ = train_model(baseline_train, baseline_valid, y_train, y_valid, feature_cols=feature_cols)\n",
    "print(\"feature_importance:\",bst.feature_importance())\n",
    "baseline_train[feature_cols].head(3)"
   ]
  },
  {
   "cell_type": "code",
   "execution_count": 288,
   "metadata": {},
   "outputs": [
    {
     "name": "stdout",
     "output_type": "stream",
     "text": [
      "Training model. Hold on a minute to see the validation score\n",
      "Validation AUC score: 0.511879901799355\n",
      "feature_importance: [59 28 24 30 12 17 19]\n"
     ]
    },
    {
     "data": {
      "text/html": [
       "<div>\n",
       "<style scoped>\n",
       "    .dataframe tbody tr th:only-of-type {\n",
       "        vertical-align: middle;\n",
       "    }\n",
       "\n",
       "    .dataframe tbody tr th {\n",
       "        vertical-align: top;\n",
       "    }\n",
       "\n",
       "    .dataframe thead th {\n",
       "        text-align: right;\n",
       "    }\n",
       "</style>\n",
       "<table border=\"1\" class=\"dataframe\">\n",
       "  <thead>\n",
       "    <tr style=\"text-align: right;\">\n",
       "      <th></th>\n",
       "      <th>num_images</th>\n",
       "      <th>age_approx</th>\n",
       "      <th>min_age</th>\n",
       "      <th>max_age</th>\n",
       "      <th>age_span</th>\n",
       "      <th>anatom_site_general_challenge</th>\n",
       "      <th>sex_anatom_site_general_challenge</th>\n",
       "    </tr>\n",
       "  </thead>\n",
       "  <tbody>\n",
       "    <tr>\n",
       "      <th>22826</th>\n",
       "      <td>54</td>\n",
       "      <td>35.0</td>\n",
       "      <td>35.0</td>\n",
       "      <td>35.0</td>\n",
       "      <td>0.0</td>\n",
       "      <td>5</td>\n",
       "      <td>9</td>\n",
       "    </tr>\n",
       "  </tbody>\n",
       "</table>\n",
       "</div>"
      ],
      "text/plain": [
       "       num_images  age_approx  min_age  max_age  age_span  \\\n",
       "22826          54        35.0     35.0     35.0       0.0   \n",
       "\n",
       "       anatom_site_general_challenge  sex_anatom_site_general_challenge  \n",
       "22826                              5                                  9  "
      ]
     },
     "execution_count": 288,
     "metadata": {},
     "output_type": "execute_result"
    },
    {
     "data": {
      "image/png": "[encoded data removed]",
      "text/plain": [
       "<Figure size 432x288 with 1 Axes>"
      ]
     },
     "metadata": {},
     "output_type": "display_data"
    }
   ],
   "source": [
    "feature_cols = [\n",
    "   'num_images',\n",
    "  'age_approx',\n",
    "   'min_age',\n",
    "  'max_age',\n",
    "    'age_span',\n",
    "#   'sex',\n",
    "   'anatom_site_general_challenge',\n",
    "  'sex_anatom_site_general_challenge'\n",
    "]\n",
    "bst, _ = train_model(baseline_train, baseline_valid, y_train, y_valid, feature_cols=feature_cols)\n",
    "print(\"feature_importance:\",bst.feature_importance())\n",
    "baseline_train[feature_cols].head(1)"
   ]
  },
  {
   "cell_type": "code",
   "execution_count": 282,
   "metadata": {},
   "outputs": [
    {
     "name": "stdout",
     "output_type": "stream",
     "text": [
      "Training model. Hold on a minute to see the validation score\n",
      "Validation AUC score: 0.511879901799355\n",
      "feature_importance: [59 28 24 30 12  6 17 13]\n"
     ]
    },
    {
     "data": {
      "text/html": [
       "<div>\n",
       "<style scoped>\n",
       "    .dataframe tbody tr th:only-of-type {\n",
       "        vertical-align: middle;\n",
       "    }\n",
       "\n",
       "    .dataframe tbody tr th {\n",
       "        vertical-align: top;\n",
       "    }\n",
       "\n",
       "    .dataframe thead th {\n",
       "        text-align: right;\n",
       "    }\n",
       "</style>\n",
       "<table border=\"1\" class=\"dataframe\">\n",
       "  <thead>\n",
       "    <tr style=\"text-align: right;\">\n",
       "      <th></th>\n",
       "      <th>num_images</th>\n",
       "      <th>age_approx</th>\n",
       "      <th>min_age</th>\n",
       "      <th>max_age</th>\n",
       "      <th>age_span</th>\n",
       "      <th>sex</th>\n",
       "      <th>anatom_site_general_challenge</th>\n",
       "      <th>sex_anatom_site_general_challenge</th>\n",
       "    </tr>\n",
       "  </thead>\n",
       "  <tbody>\n",
       "    <tr>\n",
       "      <th>22826</th>\n",
       "      <td>54</td>\n",
       "      <td>35.0</td>\n",
       "      <td>35.0</td>\n",
       "      <td>35.0</td>\n",
       "      <td>0.0</td>\n",
       "      <td>1</td>\n",
       "      <td>5</td>\n",
       "      <td>9</td>\n",
       "    </tr>\n",
       "    <tr>\n",
       "      <th>20292</th>\n",
       "      <td>30</td>\n",
       "      <td>35.0</td>\n",
       "      <td>30.0</td>\n",
       "      <td>35.0</td>\n",
       "      <td>5.0</td>\n",
       "      <td>2</td>\n",
       "      <td>2</td>\n",
       "      <td>13</td>\n",
       "    </tr>\n",
       "    <tr>\n",
       "      <th>29431</th>\n",
       "      <td>26</td>\n",
       "      <td>45.0</td>\n",
       "      <td>45.0</td>\n",
       "      <td>45.0</td>\n",
       "      <td>0.0</td>\n",
       "      <td>2</td>\n",
       "      <td>1</td>\n",
       "      <td>12</td>\n",
       "    </tr>\n",
       "  </tbody>\n",
       "</table>\n",
       "</div>"
      ],
      "text/plain": [
       "       num_images  age_approx  min_age  max_age  age_span  sex  \\\n",
       "22826          54        35.0     35.0     35.0       0.0    1   \n",
       "20292          30        35.0     30.0     35.0       5.0    2   \n",
       "29431          26        45.0     45.0     45.0       0.0    2   \n",
       "\n",
       "       anatom_site_general_challenge  sex_anatom_site_general_challenge  \n",
       "22826                              5                                  9  \n",
       "20292                              2                                 13  \n",
       "29431                              1                                 12  "
      ]
     },
     "execution_count": 282,
     "metadata": {},
     "output_type": "execute_result"
    },
    {
     "data": {
      "image/png": "[encoded data removed]",
      "text/plain": [
       "<Figure size 432x288 with 1 Axes>"
      ]
     },
     "metadata": {},
     "output_type": "display_data"
    }
   ],
   "source": [
    "feature_cols = baseline_train.columns.to_list()\n",
    "bst, _ = train_model(baseline_train, baseline_valid, y_train, y_valid, feature_cols=feature_cols)\n",
    "print(\"feature_importance:\",bst.feature_importance())\n",
    "baseline_train[feature_cols].head(3)"
   ]
  },
  {
   "cell_type": "markdown",
   "metadata": {},
   "source": [
    "## Univariate Feature Selection\n",
    "\n",
    "The simplest and fastest methods are based on univariate statistical tests. Scikit-learn's feature selection module, `feature_selection.SelectKBest` returns the K best features given some scoring function. For our classification problem, the module provides three different scoring functions: $\\chi^2$, ANOVA F-value, and the mutual information score. The F-value measures the linear dependency between the feature variable and the target (might underestimate if nonlinear). The mutual information score is nonparametric and so can capture nonlinear relationships. Using `.fit_transform(features, target)` we get back an array with only the selected features."
   ]
  },
  {
   "cell_type": "code",
   "execution_count": 289,
   "metadata": {},
   "outputs": [
    {
     "data": {
      "text/plain": [
       "['num_images',\n",
       " 'age_approx',\n",
       " 'age_span',\n",
       " 'sex',\n",
       " 'anatom_site_general_challenge']"
      ]
     },
     "execution_count": 289,
     "metadata": {},
     "output_type": "execute_result"
    }
   ],
   "source": [
    "from sklearn.feature_selection import SelectKBest, f_classif, mutual_info_classif\n",
    "\n",
    "# Keep 5 features\n",
    "selector = SelectKBest(mutual_info_classif, k=5)\n",
    "#Use only train set to avoid leakage\n",
    "X_new = selector.fit_transform(baseline_train, y_train)\n",
    "selected_features = pd.DataFrame(selector.inverse_transform(X_new),  columns=baseline_train.columns).head()\n",
    "selected_features = selected_features.columns[selected_features.var() != 0].to_list()\n",
    "#baseline_train[selected_features].head(2)\n",
    "selected_features"
   ]
  },
  {
   "cell_type": "code",
   "execution_count": 290,
   "metadata": {},
   "outputs": [
    {
     "name": "stdout",
     "output_type": "stream",
     "text": [
      "Training model. Hold on a minute to see the validation score\n",
      "Validation AUC score: 0.5584619278785742\n",
      "feature_importance: [435 313 117  79 127]\n"
     ]
    },
    {
     "data": {
      "text/html": [
       "<div>\n",
       "<style scoped>\n",
       "    .dataframe tbody tr th:only-of-type {\n",
       "        vertical-align: middle;\n",
       "    }\n",
       "\n",
       "    .dataframe tbody tr th {\n",
       "        vertical-align: top;\n",
       "    }\n",
       "\n",
       "    .dataframe thead th {\n",
       "        text-align: right;\n",
       "    }\n",
       "</style>\n",
       "<table border=\"1\" class=\"dataframe\">\n",
       "  <thead>\n",
       "    <tr style=\"text-align: right;\">\n",
       "      <th></th>\n",
       "      <th>num_images</th>\n",
       "      <th>age_approx</th>\n",
       "      <th>age_span</th>\n",
       "      <th>sex</th>\n",
       "      <th>anatom_site_general_challenge</th>\n",
       "    </tr>\n",
       "  </thead>\n",
       "  <tbody>\n",
       "    <tr>\n",
       "      <th>22826</th>\n",
       "      <td>54</td>\n",
       "      <td>35.0</td>\n",
       "      <td>0.0</td>\n",
       "      <td>1</td>\n",
       "      <td>5</td>\n",
       "    </tr>\n",
       "    <tr>\n",
       "      <th>20292</th>\n",
       "      <td>30</td>\n",
       "      <td>35.0</td>\n",
       "      <td>5.0</td>\n",
       "      <td>2</td>\n",
       "      <td>2</td>\n",
       "    </tr>\n",
       "    <tr>\n",
       "      <th>29431</th>\n",
       "      <td>26</td>\n",
       "      <td>45.0</td>\n",
       "      <td>0.0</td>\n",
       "      <td>2</td>\n",
       "      <td>1</td>\n",
       "    </tr>\n",
       "  </tbody>\n",
       "</table>\n",
       "</div>"
      ],
      "text/plain": [
       "       num_images  age_approx  age_span  sex  anatom_site_general_challenge\n",
       "22826          54        35.0       0.0    1                              5\n",
       "20292          30        35.0       5.0    2                              2\n",
       "29431          26        45.0       0.0    2                              1"
      ]
     },
     "execution_count": 290,
     "metadata": {},
     "output_type": "execute_result"
    },
    {
     "data": {
      "image/png": "[encoded data removed]",
      "text/plain": [
       "<Figure size 432x288 with 1 Axes>"
      ]
     },
     "metadata": {},
     "output_type": "display_data"
    }
   ],
   "source": [
    "feature_cols = selected_features\n",
    "bst, _ = train_model(baseline_train, baseline_valid, y_train, y_valid, feature_cols=feature_cols)\n",
    "print(\"feature_importance:\",bst.feature_importance())\n",
    "baseline_train[feature_cols].head(3)"
   ]
  },
  {
   "cell_type": "markdown",
   "metadata": {},
   "source": [
    "## Try other models"
   ]
  },
  {
   "cell_type": "code",
   "execution_count": 243,
   "metadata": {},
   "outputs": [
    {
     "data": {
      "text/plain": [
       "22826    4\n",
       "20292    1\n",
       "29431    0\n",
       "15395    4\n",
       "2333     4\n",
       "23787    1\n",
       "15895    1\n",
       "17271    4\n",
       "29285    1\n",
       "17599    4\n",
       "Name: anatom_site_general_challenge, dtype: int64"
      ]
     },
     "execution_count": 243,
     "metadata": {},
     "output_type": "execute_result"
    }
   ],
   "source": [
    "baseline_train['anatom_site_general_challenge'].iloc[:10]"
   ]
  },
  {
   "cell_type": "code",
   "execution_count": 253,
   "metadata": {},
   "outputs": [
    {
     "data": {
      "text/plain": [
       "22826              torso\n",
       "20292    lower extremity\n",
       "29431          head/neck\n",
       "15395              torso\n",
       "2333               torso\n",
       "23787    lower extremity\n",
       "15895    lower extremity\n",
       "17271              torso\n",
       "29285    lower extremity\n",
       "17599              torso\n",
       "Name: anatom_site_general_challenge, dtype: object"
      ]
     },
     "execution_count": 253,
     "metadata": {},
     "output_type": "execute_result"
    }
   ],
   "source": [
    "X_train['anatom_site_general_challenge'].iloc[:10]"
   ]
  },
  {
   "cell_type": "code",
   "execution_count": 292,
   "metadata": {},
   "outputs": [
    {
     "name": "stdout",
     "output_type": "stream",
     "text": [
      "AUC:0.5087\n"
     ]
    },
    {
     "data": {
      "image/png": "[encoded data removed]",
      "text/plain": [
       "<Figure size 432x288 with 1 Axes>"
      ]
     },
     "metadata": {},
     "output_type": "display_data"
    }
   ],
   "source": [
    "from sklearn.linear_model import LogisticRegression\n",
    "clf = LogisticRegression(random_state=0).fit(baseline_train[selected_features], y_train)\n",
    "\n",
    "# Predict probability target\n",
    "y_pred_p = clf.predict_proba(baseline_valid[selected_features])\n",
    "\n",
    "fpr, tpr, _ = metrics.roc_curve(y_valid, y_pred_p[:,1], pos_label=None)\n",
    "plt.plot(fpr,tpr)\n",
    "plt.plot(tpr,tpr)\n",
    "plt.xlabel('false positives rate')\n",
    "plt.ylabel('true positives rate')\n",
    "plt.plot(fpr,fpr)\n",
    "print('AUC:%s'%np.round(auc(fpr, tpr),5))"
   ]
  },
  {
   "cell_type": "markdown",
   "metadata": {},
   "source": [
    "## Summary \n",
    "\n",
    "1. Too much data, what to do ?? Cloud, Kaggle. Encode images in cloud like env and then use encodings locally. Ignore images for the mean time and include them later on. \n",
    "2. Binary classifier\n",
    "3. `image_name, patient_id, sex, age_approx, anatom_site_general_challenge, diagnosis, benign_malignant, target` Categorical variables ?? \n",
    "4. PCA o tSNE \n",
    "4. Ideas: Use ResNet to encode images, other options Inception, VGG, CV2 ?? Which??\n",
    "5. Note that test set DO NOT HAVE: `diagnosis, benign_malignant, target`  and the task is to predict ` target`\n",
    "6. Is there any other relevant information in the DICOM or tfrecords available in the data set. \n",
    "7. What should we use for a cost function\n",
    "8. Review Notebooks on Kaggle, see below.  \n",
    "9. How to work with unbalance datasets, \n",
    "10. Benchamark XGBoost... \n",
    "\n",
    "\n",
    "Reference \n",
    "* [Kaggel notebook](https://www.kaggle.com/allunia/don-t-turn-into-a-smoothie-after-the-shake-up)\n",
    "\n",
    "## Strategy\n",
    "\n",
    "1. Run model with only the metadata, XGBoost, logistic regresion(benchmark), categorical variables\n",
    "2. f1 score, note that \n",
    "3. Feature importance -- XGBoost, shapely values\n",
    "66. Encoding de las imagenes --  mole size ?????  \n",
    "3. Preprocessing (mole shape) CV2 (\"normalise\"), \n",
    "4. Mid July EDA \n",
    "5. Agosto Run-Run-Run\n",
    "\n",
    "## Ideas con Carlos\n",
    "1. Usar features de smoothie -- Numero de imagenes por paciente, sacar mas features, benign/malign(no esta train set), \n",
    "2. Mirar imagenes: Data augmentation (positives), contornos, y color --- standarizar.\n",
    "3. StratifiesKFold para solucionar low positive stats\n",
    "4. See categorical variables, oridinal or not. "
   ]
  },
  {
   "cell_type": "markdown",
   "metadata": {},
   "source": [
    "# Dependencies"
   ]
  },
  {
   "cell_type": "code",
   "execution_count": 3,
   "metadata": {
    "collapsed": true
   },
   "outputs": [
    {
     "name": "stdout",
     "output_type": "stream",
     "text": [
      "Collecting seaborn\n",
      "  Downloading seaborn-0.10.1-py3-none-any.whl (215 kB)\n",
      "\u001b[K     |████████████████████████████████| 215 kB 374 kB/s eta 0:00:01\n",
      "\u001b[?25hRequirement already satisfied: pandas>=0.22.0 in /Users/felipevallejomonsalve/opt/anaconda3/envs/dataScience/lib/python3.7/site-packages (from seaborn) (0.25.3)\n",
      "Requirement already satisfied: scipy>=1.0.1 in /Users/felipevallejomonsalve/opt/anaconda3/envs/dataScience/lib/python3.7/site-packages (from seaborn) (1.4.1)\n",
      "Requirement already satisfied: matplotlib>=2.1.2 in /Users/felipevallejomonsalve/opt/anaconda3/envs/dataScience/lib/python3.7/site-packages (from seaborn) (3.1.2)\n",
      "Requirement already satisfied: numpy>=1.13.3 in /Users/felipevallejomonsalve/opt/anaconda3/envs/dataScience/lib/python3.7/site-packages (from seaborn) (1.18.1)\n",
      "Requirement already satisfied: python-dateutil>=2.6.1 in /Users/felipevallejomonsalve/opt/anaconda3/envs/dataScience/lib/python3.7/site-packages (from pandas>=0.22.0->seaborn) (2.8.1)\n",
      "Requirement already satisfied: pytz>=2017.2 in /Users/felipevallejomonsalve/opt/anaconda3/envs/dataScience/lib/python3.7/site-packages (from pandas>=0.22.0->seaborn) (2019.3)\n",
      "Requirement already satisfied: cycler>=0.10 in /Users/felipevallejomonsalve/opt/anaconda3/envs/dataScience/lib/python3.7/site-packages (from matplotlib>=2.1.2->seaborn) (0.10.0)\n",
      "Requirement already satisfied: pyparsing!=2.0.4,!=2.1.2,!=2.1.6,>=2.0.1 in /Users/felipevallejomonsalve/opt/anaconda3/envs/dataScience/lib/python3.7/site-packages (from matplotlib>=2.1.2->seaborn) (2.4.6)\n",
      "Requirement already satisfied: kiwisolver>=1.0.1 in /Users/felipevallejomonsalve/opt/anaconda3/envs/dataScience/lib/python3.7/site-packages (from matplotlib>=2.1.2->seaborn) (1.1.0)\n",
      "Requirement already satisfied: six>=1.5 in /Users/felipevallejomonsalve/opt/anaconda3/envs/dataScience/lib/python3.7/site-packages (from python-dateutil>=2.6.1->pandas>=0.22.0->seaborn) (1.14.0)\n",
      "Requirement already satisfied: setuptools in /Users/felipevallejomonsalve/opt/anaconda3/envs/dataScience/lib/python3.7/site-packages (from kiwisolver>=1.0.1->matplotlib>=2.1.2->seaborn) (45.0.0)\n",
      "Installing collected packages: seaborn\n",
      "Successfully installed seaborn-0.10.1\n"
     ]
    }
   ],
   "source": [
    "!pip install seaborn"
   ]
  }
 ],
 "metadata": {
  "kernelspec": {
   "display_name": "Python 3",
   "language": "python",
   "name": "python3"
  },
  "language_info": {
   "codemirror_mode": {
    "name": "ipython",
    "version": 3
   },
   "file_extension": ".py",
   "mimetype": "text/x-python",
   "name": "python",
   "nbconvert_exporter": "python",
   "pygments_lexer": "ipython3",
   "version": "3.7.6"
  }
 },
 "nbformat": 4,
 "nbformat_minor": 4
}
